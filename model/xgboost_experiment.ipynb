{
 "cells": [
  {
   "cell_type": "code",
   "execution_count": 11,
   "metadata": {},
   "outputs": [],
   "source": [
    "from collections import OrderedDict\n",
    "from itertools import product\n",
    "import random\n",
    "\n",
    "import os\n",
    "from importlib import reload\n",
    "\n",
    "import pandas as pd\n",
    "import xgboost as xgb\n",
    "import numpy as np\n",
    "#import performance_metrics"
   ]
  },
  {
   "cell_type": "code",
   "execution_count": 26,
   "metadata": {},
   "outputs": [
    {
     "name": "stdout",
     "output_type": "stream",
     "text": [
      "(31776, 174) (31776,) (7944, 174) (7944,) (9930, 174) (9930,)\n"
     ]
    }
   ],
   "source": [
    "# read h5 file from data folder\n",
    "x_train = pd.read_hdf('Insight-Project/data/x_train.h5')\n",
    "y_train = pd.read_hdf('Insight-Project/data/y_train.h5')\n",
    "x_val = pd.read_hdf('Insight-Project/data/x_val.h5') \n",
    "y_val = pd.read_hdf('Insight-Project/data/y_val.h5')\n",
    "x_test = pd.read_hdf('Insight-Project/data/x_test.h5')\n",
    "y_test = pd.read_hdf('Insight-Project/data/y_test.h5')\n",
    "print(x_train.shape, y_train.shape, x_val.shape, y_val.shape, x_test.shape, y_test.shape)\n",
    "#(31776, 174) (31776,) (7944, 174) (7944,) (9930, 174) (9930,)"
   ]
  },
  {
   "cell_type": "code",
   "execution_count": 27,
   "metadata": {},
   "outputs": [
    {
     "name": "stdout",
     "output_type": "stream",
     "text": [
      "ratio of 0 to 1 in target column  1.0007555723460522\n",
      "Postive examples in train set: 15894\n",
      "Negative examples in train set: 15882\n",
      "Postive examples in test set: 4991\n",
      "Negative examples in test set: 4939\n"
     ]
    }
   ],
   "source": [
    "ratio = (y_train == 0).sum()/ (y_train == 1).sum()\n",
    "print(\"ratio of 0 to 1 in target column \", ratio)\n",
    "print(\"Postive examples in train set: {}\".format(np.sum(y_train==0)))\n",
    "print(\"Negative examples in train set: {}\".format(np.sum(y_train==1)))\n",
    "\n",
    "print(\"Postive examples in test set: {}\".format(np.sum(y_test==0)))\n",
    "print(\"Negative examples in test set: {}\".format(np.sum(y_test==1)))"
   ]
  },
  {
   "cell_type": "code",
   "execution_count": 29,
   "metadata": {},
   "outputs": [],
   "source": [
    "import xgboost as xgb\n",
    "from xgboost.sklearn import XGBClassifier\n",
    "from sklearn import  metrics   #Additional scklearn functions\n",
    "from sklearn.model_selection import GridSearchCV   #Perforing grid search\n",
    "\n",
    "import matplotlib.pylab as plt\n",
    "import time\n",
    "\n",
    "\"\"\"\n",
    "import xgboost as xgbd\n",
    "\n",
    "#Loading data into DMatrices\n",
    "dtrain = xgb.DMatrix(x_train, label=y_train)\n",
    "dtest = xgb.DMatrix(x_test, label=y_test)\n",
    "\"\"\"\n",
    "\n",
    "\n",
    "def modelfit(alg, x_train, y_train,useTrainCV=True, cv_folds=5, early_stopping_rounds=50):\n",
    "    start_time = time.time()\n",
    "    \n",
    "    if useTrainCV:\n",
    "        xgb_param = alg.get_xgb_params()\n",
    "        xgtrain = xgb.DMatrix(x_train, label=y_train)\n",
    "        cvresult = xgb.cv(xgb_param, xgtrain, num_boost_round=alg.get_params()['n_estimators'], nfold=cv_folds,\n",
    "            metrics='auc', early_stopping_rounds=early_stopping_rounds)\n",
    "        alg.set_params(n_estimators=cvresult.shape[0])\n",
    "        print(\"cvresult.shape[0] :\",cvresult.shape[0] )\n",
    "        #clf.best_ntree_limit\n",
    "    \n",
    "    #Fit the algorithm on the data\n",
    "    alg.fit(x_train, y_train,eval_metric='auc')\n",
    "    #print(\"best ntree limit: \", alg.best_ntree_limit)\n",
    "    print ('Model trained in seconds ',format(time.time() - start_time))   \n",
    "    #Predict training set:\n",
    "    dtrain_predictions = alg.predict(x_train)\n",
    "    dtrain_predprob = alg.predict_proba(x_train)[:,1]\n",
    "        \n",
    "    #Print model report:\n",
    "    print (\"Accuracy : \" , metrics.accuracy_score(y_train, dtrain_predictions))\n",
    "    print (\"AUC Score (Train):\", metrics.roc_auc_score(y_train, dtrain_predprob))\n",
    "    \n",
    "\n",
    "    feat_imp = pd.Series(alg.get_booster().get_score(importance_type='weight')).sort_values(ascending=False)[:20]\n",
    "    feat_imp.plot(kind='bar', title='Feature Importances')\n",
    "    plt.ylabel('Feature Importance Score')\n",
    "    return alg\n"
   ]
  },
  {
   "cell_type": "code",
   "execution_count": 30,
   "metadata": {},
   "outputs": [
    {
     "name": "stdout",
     "output_type": "stream",
     "text": [
      "cvresult.shape[0] : 146\n",
      "Model trained in seconds  71.62596988677979\n",
      "Accuracy :  0.7174282477341389\n",
      "AUC Score (Train): 0.795481291281094\n"
     ]
    },
    {
     "data": {
      "text/plain": [
       "\"\\nbase_score=0.5, booster='gbtree', colsample_bylevel=1,\\n       colsample_bynode=1, colsample_bytree=1, gamma=0.1, gpu_id=-1,\\n       importance_type='gain', interaction_constraints='',\\n       learning_rate=0.300000012, max_delta_step=0, max_depth=6,\\n       min_child_weight=1, missing=nan, monotone_constraints='()',\\n       n_estimators=26, n_jobs=0, num_parallel_tree=1,\\n       objective='binary:logistic', random_state=0, reg_alpha=0,\\n       reg_lambda=1, scale_pos_weight=11.329374028968076, subsample=0.5,\\n       tree_method='exact', validate_parameters=1, verbosity=None)\\n\""
      ]
     },
     "execution_count": 30,
     "metadata": {},
     "output_type": "execute_result"
    },
    {
     "data": {
      "image/png": "[encoded data removed]",
      "text/plain": [
       "<Figure size 432x288 with 1 Axes>"
      ]
     },
     "metadata": {
      "needs_background": "light"
     },
     "output_type": "display_data"
    }
   ],
   "source": [
    "#clf = XGBClassifier(n_estimators=1000, objective='binary:logistic', gamma=0.1, subsample=0.5, scale_pos_weight=ratio )\n",
    "\n",
    "#Choose all predictors except target & IDcols\n",
    "xgb_model = XGBClassifier(\n",
    " learning_rate =0.1,\n",
    " n_estimators=1000,\n",
    " max_depth=5,\n",
    " min_child_weight=1,\n",
    " gamma=0,\n",
    " subsample=0.8,\n",
    " colsample_bytree=0.8,\n",
    " objective= 'binary:logistic',\n",
    " nthread=4,\n",
    " scale_pos_weight=1,\n",
    " seed=27)\n",
    "xgb_clf = modelfit(xgb_model, x_train, y_train)\n",
    "\n",
    "\"\"\"\n",
    "base_score=0.5, booster='gbtree', colsample_bylevel=1,\n",
    "       colsample_bynode=1, colsample_bytree=1, gamma=0.1, gpu_id=-1,\n",
    "       importance_type='gain', interaction_constraints='',\n",
    "       learning_rate=0.300000012, max_delta_step=0, max_depth=6,\n",
    "       min_child_weight=1, missing=nan, monotone_constraints='()',\n",
    "       n_estimators=26, n_jobs=0, num_parallel_tree=1,\n",
    "       objective='binary:logistic', random_state=0, reg_alpha=0,\n",
    "       reg_lambda=1, scale_pos_weight=11.329374028968076, subsample=0.5,\n",
    "       tree_method='exact', validate_parameters=1, verbosity=None)\n",
    "\"\"\""
   ]
  },
  {
   "cell_type": "code",
   "execution_count": 31,
   "metadata": {},
   "outputs": [
    {
     "data": {
      "text/plain": [
       "{'objective': 'binary:logistic',\n",
       " 'base_score': 0.5,\n",
       " 'booster': 'gbtree',\n",
       " 'colsample_bylevel': 1,\n",
       " 'colsample_bynode': 1,\n",
       " 'colsample_bytree': 0.8,\n",
       " 'gamma': 0,\n",
       " 'gpu_id': -1,\n",
       " 'interaction_constraints': '',\n",
       " 'learning_rate': 0.1,\n",
       " 'max_delta_step': 0,\n",
       " 'max_depth': 5,\n",
       " 'min_child_weight': 1,\n",
       " 'monotone_constraints': '()',\n",
       " 'n_jobs': 4,\n",
       " 'num_parallel_tree': 1,\n",
       " 'random_state': 27,\n",
       " 'reg_alpha': 0,\n",
       " 'reg_lambda': 1,\n",
       " 'scale_pos_weight': 1,\n",
       " 'subsample': 0.8,\n",
       " 'tree_method': 'exact',\n",
       " 'validate_parameters': 1,\n",
       " 'verbosity': None,\n",
       " 'nthread': 4,\n",
       " 'seed': 27}"
      ]
     },
     "execution_count": 31,
     "metadata": {},
     "output_type": "execute_result"
    }
   ],
   "source": [
    "xgb_clf.get_xgb_params()"
   ]
  },
  {
   "cell_type": "code",
   "execution_count": 38,
   "metadata": {},
   "outputs": [
    {
     "data": {
      "text/plain": [
       "dtype('int64')"
      ]
     },
     "execution_count": 38,
     "metadata": {},
     "output_type": "execute_result"
    }
   ],
   "source": [
    "y_val.dtypes"
   ]
  },
  {
   "cell_type": "code",
   "execution_count": 47,
   "metadata": {},
   "outputs": [],
   "source": [
    "# predicting on val dataset\n",
    "val_predicted_labels = xgb_clf.predict(x_val)\n",
    "val_predicted_proba = xgb_clf.predict_proba(x_val)[:,1]\n"
   ]
  },
  {
   "cell_type": "code",
   "execution_count": 51,
   "metadata": {},
   "outputs": [
    {
     "data": {
      "text/plain": [
       "array([0, 1])"
      ]
     },
     "execution_count": 51,
     "metadata": {},
     "output_type": "execute_result"
    }
   ],
   "source": [
    "np.unique(y_val)"
   ]
  },
  {
   "cell_type": "code",
   "execution_count": 65,
   "metadata": {},
   "outputs": [],
   "source": [
    "#Predict on validation set\n",
    "import sys\n",
    "sys.path.append( \"Insight-Project/model/\")\n",
    "from performance_metrics import * "
   ]
  },
  {
   "cell_type": "code",
   "execution_count": 66,
   "metadata": {},
   "outputs": [
    {
     "name": "stdout",
     "output_type": "stream",
     "text": [
      "              precision    recall  f1-score   support\n",
      "\n",
      "           1       0.64      0.62      0.63      4004\n",
      "           0       0.63      0.64      0.63      3940\n",
      "\n",
      "    accuracy                           0.63      7944\n",
      "   macro avg       0.63      0.63      0.63      7944\n",
      "weighted avg       0.63      0.63      0.63      7944\n",
      "\n"
     ]
    }
   ],
   "source": [
    "from sklearn import metrics\n",
    "print(metrics.classification_report(y_val, val_predicted_labels, labels=[1,0]))"
   ]
  },
  {
   "cell_type": "code",
   "execution_count": 68,
   "metadata": {},
   "outputs": [],
   "source": [
    "\n",
    "def get_metrics(true_labels, predicted_labels):\n",
    "    accuracy = np.round(metrics.accuracy_score(true_labels, predicted_labels), 4)\n",
    "    prec = np.round(metrics.precision_score(true_labels, predicted_labels, average='weighted'), 4)\n",
    "    recall = np.round(metrics.recall_score(true_labels, predicted_labels, average='weighted'), 4)\n",
    "    f1 = np.round( metrics.f1_score(true_labels, predicted_labels, average='weighted'), 4)\n",
    "\n",
    "    df = pd.DataFrame([[accuracy, prec, recall, f1]], index=['performance'], columns=[\"accuracy\", \"precision\", \"recall\", \"f1_score\"])\n",
    "    print(df)\n",
    "    return df\n",
    "\n",
    "\n",
    "# get AUC score for both train and test data sets\n",
    "\n",
    "def roc_auc_scorer( y, y_pred ) :\n",
    "    roc_score = metrics.roc_auc_score( y, y_pred )\n",
    "    print(\"roc_score \",roc_score)\n",
    "    lr_fpr, lr_tpr, _ = roc_curve(y, y_pred)\n",
    "    \n",
    "    # plot the roc curve for the model\n",
    "    pyplot.plot(lr_fpr, lr_tpr, marker='.', label='XGBoost')\n",
    "    # axis labels\n",
    "    pyplot.xlabel('False Positive Rate')\n",
    "    pyplot.ylabel('True Positive Rate')\n",
    "    # show the legend\n",
    "    pyplot.legend()\n",
    "    # show the plot\n",
    "    pyplot.show()"
   ]
  },
  {
   "cell_type": "code",
   "execution_count": 69,
   "metadata": {},
   "outputs": [
    {
     "name": "stdout",
     "output_type": "stream",
     "text": [
      "Model Performance metrics:\n",
      "------------------------------\n",
      "             accuracy  precision  recall  f1_score\n",
      "performance    0.6315     0.6317  0.6315    0.6315\n",
      "\n",
      "ROC plot\n",
      "roc_score  0.6904747853669174\n"
     ]
    },
    {
     "data": {
      "image/png": "[encoded data removed]",
      "text/plain": [
       "<Figure size 432x288 with 1 Axes>"
      ]
     },
     "metadata": {
      "needs_background": "light"
     },
     "output_type": "display_data"
    }
   ],
   "source": [
    "print('Model Performance metrics:')\n",
    "print('-' * 30)\n",
    "get_metrics(y_val, val_predicted_labels)\n",
    "    \n",
    "print('\\nROC plot')\n",
    "roc_auc_scorer(y_val, val_predicted_proba)\n",
    "\n"
   ]
  },
  {
   "cell_type": "code",
   "execution_count": null,
   "metadata": {},
   "outputs": [],
   "source": []
  }
 ],
 "metadata": {
  "environment": {
   "name": "tf2-2-2-gpu.2-2.m48",
   "type": "gcloud",
   "uri": "gcr.io/deeplearning-platform-release/tf2-2-2-gpu.2-2:m48"
  },
  "kernelspec": {
   "display_name": "Python 3",
   "language": "python",
   "name": "python3"
  },
  "language_info": {
   "codemirror_mode": {
    "name": "ipython",
    "version": 3
   },
   "file_extension": ".py",
   "mimetype": "text/x-python",
   "name": "python",
   "nbconvert_exporter": "python",
   "pygments_lexer": "ipython3",
   "version": "3.7.6"
  }
 },
 "nbformat": 4,
 "nbformat_minor": 4
}
